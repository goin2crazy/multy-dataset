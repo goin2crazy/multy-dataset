{
  "cells": [
    {
      "cell_type": "markdown",
      "metadata": {
        "id": "znMhBM_Dedxj"
      },
      "source": [
        "# Import NewDataset class"
      ]
    },
    {
      "cell_type": "code",
      "execution_count": null,
      "metadata": {},
      "outputs": [],
      "source": [
        "from main import NewDataset"
      ]
    },
    {
      "cell_type": "markdown",
      "metadata": {
        "id": "4Ys5kfTDPvBW"
      },
      "source": [
        "# Load Datasets, Preprocess"
      ]
    },
    {
      "cell_type": "code",
      "execution_count": 39,
      "metadata": {
        "colab": {
          "base_uri": "https://localhost:8080/"
        },
        "id": "ChnIe0l_UC16",
        "outputId": "3a2a14b2-c16b-4beb-83ae-70dd8908609d"
      },
      "outputs": [
        {
          "name": "stdout",
          "output_type": "stream",
          "text": [
            "knkarthick/dialogsum have a custom fn\n",
            "Estwld/empathetic_dialogues_llm have a custom fn\n",
            "{'train': Dataset({\n",
            "    features: ['d', 'l'],\n",
            "    num_rows: 31993\n",
            "}), 'validation': Dataset({\n",
            "    features: ['d', 'l'],\n",
            "    num_rows: 3270\n",
            "}), 'test': Dataset({\n",
            "    features: ['d', 'l'],\n",
            "    num_rows: 4047\n",
            "})}\n"
          ]
        }
      ],
      "source": [
        "def split_dialogue(dataset):\n",
        "\n",
        "  def preprocess(item) -> str:\n",
        "    # replace persona 1 name one to be main character\n",
        "    d = item['dialogue'].split(\"#Person\")\n",
        "    d = [t for t in d if len(t) > 0]\n",
        "    d = [{'content': \"\".join(text.split(':')[1:]), 'role': 'user' if ('1#' in text) else 'assistant'} for text in d]\n",
        "\n",
        "    l = len(d)\n",
        "    return {'d': d, 'l': l}\n",
        "\n",
        "  return dataset.map(preprocess)\n",
        "\n",
        "def dialogue_length(dataset):\n",
        "  from datasets import DatasetDict\n",
        "\n",
        "  dataset = DatasetDict({\n",
        "      'train': dataset['train'],\n",
        "      'validation': dataset['valid'],\n",
        "      'test': dataset['test'],\n",
        "  })\n",
        "\n",
        "  return dataset.map(lambda i: {'d': i['conversations'], 'l': len(i['conversations'])})\n",
        "\n",
        "dataset_params = {\n",
        "    \"knkarthick/dialogsum\": (\"d\", \"l\"),\n",
        "    \"Estwld/empathetic_dialogues_llm\": (\"d\", \"l\")\n",
        "}\n",
        "\n",
        "dataset_preprocesses = {\n",
        "    'knkarthick/dialogsum': split_dialogue,\n",
        "    \"Estwld/empathetic_dialogues_llm\": dialogue_length,\n",
        "}\n",
        "\n",
        "dataset = NewDataset(dataset_params,\n",
        "                     dataset_preprocesses=dataset_preprocesses,\n",
        "                     target_col_name = 'l',\n",
        "                     input_col_name = 'd')\n",
        "print(dataset)"
      ]
    },
    {
      "cell_type": "markdown",
      "metadata": {
        "id": "Ay8E7q2mc-BZ"
      },
      "source": [
        "# Analizing Datasets"
      ]
    },
    {
      "cell_type": "code",
      "execution_count": 44,
      "metadata": {
        "id": "dImWR8wDgXCT"
      },
      "outputs": [],
      "source": [
        "import pandas as pd\n",
        "import matplotlib.pyplot as plt\n",
        "\n",
        "df = pd.DataFrame(dataset.dict_dataset['train'])"
      ]
    },
    {
      "cell_type": "code",
      "execution_count": 45,
      "metadata": {
        "colab": {
          "base_uri": "https://localhost:8080/"
        },
        "id": "ZFXlsXVXh1Af",
        "outputId": "5b7653c4-420b-4901-ec49-58ca35ded601"
      },
      "outputs": [
        {
          "data": {
            "text/plain": [
              "count    31993.000000\n",
              "mean         6.328478\n",
              "std          3.664374\n",
              "min          1.000000\n",
              "25%          4.000000\n",
              "50%          4.000000\n",
              "75%          8.000000\n",
              "max         61.000000\n",
              "Name: l, dtype: float64"
            ]
          },
          "execution_count": 45,
          "metadata": {},
          "output_type": "execute_result"
        }
      ],
      "source": [
        "df.l.describe()"
      ]
    },
    {
      "cell_type": "code",
      "execution_count": 47,
      "metadata": {
        "colab": {
          "base_uri": "https://localhost:8080/",
          "height": 333
        },
        "id": "rjiUt-TJhzA3",
        "outputId": "90d9fbe8-a5a9-493d-8c10-5d89d9044304"
      },
      "outputs": [
        {
          "data": {
            "image/png": "[encoded data removed]",
            "text/plain": [
              "<Figure size 500x300 with 1 Axes>"
            ]
          },
          "metadata": {},
          "output_type": "display_data"
        }
      ],
      "source": [
        "# Create a count plot based on the length of text data\n",
        "plt.figure(figsize=(5, 3))  # Set the figure size\n",
        "plt.title('Count Plot of Text Lengths')\n",
        "plt.xlabel('Text Length')\n",
        "plt.ylabel('Count')\n",
        "plt.hist(df.l, bins=100)  # Adjust the number of bins as needed\n",
        "plt.show()"
      ]
    }
  ],
  "metadata": {
    "colab": {
      "provenance": []
    },
    "kernelspec": {
      "display_name": "Python 3",
      "name": "python3"
    },
    "language_info": {
      "name": "python"
    }
  },
  "nbformat": 4,
  "nbformat_minor": 0
}
